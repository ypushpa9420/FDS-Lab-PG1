{
  "nbformat": 4,
  "nbformat_minor": 0,
  "metadata": {
    "colab": {
      "name": "FDS_La1_Ass_Pushpa_Yadav.ipynb",
      "provenance": [],
      "collapsed_sections": [],
      "authorship_tag": "ABX9TyN9AE2cRzPq/eYC0twmRcRh",
      "include_colab_link": true
    },
    "kernelspec": {
      "name": "python3",
      "display_name": "Python 3"
    }
  },
  "cells": [
    {
      "cell_type": "markdown",
      "metadata": {
        "id": "view-in-github",
        "colab_type": "text"
      },
      "source": [
        "<a href=\"https://colab.research.google.com/github/ypushpa9420/FDS-Lab-PG1/blob/main/FDS_La1_Ass_Pushpa_Yadav.ipynb\" target=\"_parent\"><img src=\"https://colab.research.google.com/assets/colab-badge.svg\" alt=\"Open In Colab\"/></a>"
      ]
    },
    {
      "cell_type": "code",
      "metadata": {
        "colab": {
          "base_uri": "https://localhost:8080/"
        },
        "id": "SURJw-8uWTw4",
        "outputId": "7f2404c1-06ba-4c38-baaa-d8cdce9b06cd"
      },
      "source": [
        "#Mounting Google Drive\n",
        "%cd ..\n",
        "from google.colab import drive\n",
        "drive.mount('/content/gdrive')"
      ],
      "execution_count": null,
      "outputs": [
        {
          "output_type": "stream",
          "text": [
            "/\n",
            "Drive already mounted at /content/gdrive; to attempt to forcibly remount, call drive.mount(\"/content/gdrive\", force_remount=True).\n"
          ],
          "name": "stdout"
        }
      ]
    },
    {
      "cell_type": "code",
      "metadata": {
        "colab": {
          "base_uri": "https://localhost:8080/",
          "height": 166
        },
        "id": "oWwm0YLzeWGR",
        "outputId": "075cbdf3-57d0-432b-f6ad-2700ee76adb6"
      },
      "source": [
        "import pandas as pd\n",
        "Location=\"/content/gdrive/MyDrive/employees.csv\"\n",
        "EmpId = [\"E101\",\"E102\",\"E103\",\"E104\"]\n",
        "FName = [\"Shweta\",\"Manisha\",\"Madhu\",\"Anita\"]\n",
        "LName = [\"Subnis\",\"Perdesi\",\"Mali\",\"Rai\"]\n",
        "Designation = [\"ProjectEngineer\",\"Tester\",\"SrSoftwareEngineer\",\"WebDeveloper\"]\n",
        "Basic_Salary = [40000,50000,60000,70000]\n",
        "Employee = zip(EmpId,FName,LName,Designation,Basic_Salary)\n",
        "column = ['Employee id','First Name','Last Name','Designation','Basic Salary']\n",
        "df = pd.DataFrame(data = Employee, columns=column)\n",
        "df.to_csv(Location, index=False)\n",
        "df = pd.read_csv(Location)\n",
        "df"
      ],
      "execution_count": null,
      "outputs": [
        {
          "output_type": "execute_result",
          "data": {
            "text/html": [
              "<div>\n",
              "<style scoped>\n",
              "    .dataframe tbody tr th:only-of-type {\n",
              "        vertical-align: middle;\n",
              "    }\n",
              "\n",
              "    .dataframe tbody tr th {\n",
              "        vertical-align: top;\n",
              "    }\n",
              "\n",
              "    .dataframe thead th {\n",
              "        text-align: right;\n",
              "    }\n",
              "</style>\n",
              "<table border=\"1\" class=\"dataframe\">\n",
              "  <thead>\n",
              "    <tr style=\"text-align: right;\">\n",
              "      <th></th>\n",
              "      <th>Employee id</th>\n",
              "      <th>First Name</th>\n",
              "      <th>Last Name</th>\n",
              "      <th>Designation</th>\n",
              "      <th>Basic Salary</th>\n",
              "    </tr>\n",
              "  </thead>\n",
              "  <tbody>\n",
              "    <tr>\n",
              "      <th>0</th>\n",
              "      <td>E101</td>\n",
              "      <td>Shweta</td>\n",
              "      <td>Subnis</td>\n",
              "      <td>ProjectEngineer</td>\n",
              "      <td>40000</td>\n",
              "    </tr>\n",
              "    <tr>\n",
              "      <th>1</th>\n",
              "      <td>E102</td>\n",
              "      <td>Manisha</td>\n",
              "      <td>Perdesi</td>\n",
              "      <td>Tester</td>\n",
              "      <td>50000</td>\n",
              "    </tr>\n",
              "    <tr>\n",
              "      <th>2</th>\n",
              "      <td>E103</td>\n",
              "      <td>Madhu</td>\n",
              "      <td>Mali</td>\n",
              "      <td>SrSoftwareEngineer</td>\n",
              "      <td>60000</td>\n",
              "    </tr>\n",
              "    <tr>\n",
              "      <th>3</th>\n",
              "      <td>E104</td>\n",
              "      <td>Anita</td>\n",
              "      <td>Rai</td>\n",
              "      <td>WebDeveloper</td>\n",
              "      <td>70000</td>\n",
              "    </tr>\n",
              "  </tbody>\n",
              "</table>\n",
              "</div>"
            ],
            "text/plain": [
              "  Employee id First Name Last Name         Designation  Basic Salary\n",
              "0        E101     Shweta    Subnis     ProjectEngineer         40000\n",
              "1        E102    Manisha   Perdesi              Tester         50000\n",
              "2        E103      Madhu      Mali  SrSoftwareEngineer         60000\n",
              "3        E104      Anita       Rai        WebDeveloper         70000"
            ]
          },
          "metadata": {
            "tags": []
          },
          "execution_count": 69
        }
      ]
    },
    {
      "cell_type": "code",
      "metadata": {
        "colab": {
          "base_uri": "https://localhost:8080/"
        },
        "id": "lHjUZWtom3bN",
        "outputId": "0f2f4539-928c-4f5d-b8ea-8d3b90d5d78f"
      },
      "source": [
        "pip install xlsxwriter "
      ],
      "execution_count": null,
      "outputs": [
        {
          "output_type": "stream",
          "text": [
            "Requirement already satisfied: xlsxwriter in /usr/local/lib/python3.6/dist-packages (1.3.7)\n"
          ],
          "name": "stdout"
        }
      ]
    },
    {
      "cell_type": "code",
      "metadata": {
        "colab": {
          "base_uri": "https://localhost:8080/",
          "height": 166
        },
        "id": "Btd1dqrqtohg",
        "outputId": "bba6d21f-35eb-493a-bbe2-282e4657a9c2"
      },
      "source": [
        "import xlsxwriter\n",
        "import pandas as pd\n",
        "Location1=\"/content/gdrive/MyDrive/employees1.xlsx\"\n",
        "EmpId = [\"E101\",\"E102\",\"E103\",\"E104\"]\n",
        "FName = [\"Shweta\",\"Manisha\",\"Madhu\",\"Anita\"]\n",
        "LName = [\"Subnis\",\"Perdesi\",\"Mali\",\"Rai\"]\n",
        "Designation = [\"ProjectEngineer\",\"Tester\",\"SrSoftwareEngineer\",\"WebDeveloper\"]\n",
        "Basic_Salary = [40000,50000,60000,70000]\n",
        "Employee = zip(EmpId,FName,LName,Designation,Basic_Salary)\n",
        "column = ['Emp id','First Name','Last Name','Designation','Basic Salary']\n",
        "df1 = pd.DataFrame(data = Employee, columns=column)\n",
        "\n",
        "writer = pd.ExcelWriter(Location1, engine='xlsxwriter')\n",
        "df1.to_excel(writer, sheet_name='Sheet1', index=False)\n",
        "writer.save()\n",
        "df1 = pd.read_excel(Location1)\n",
        "df1"
      ],
      "execution_count": null,
      "outputs": [
        {
          "output_type": "execute_result",
          "data": {
            "text/html": [
              "<div>\n",
              "<style scoped>\n",
              "    .dataframe tbody tr th:only-of-type {\n",
              "        vertical-align: middle;\n",
              "    }\n",
              "\n",
              "    .dataframe tbody tr th {\n",
              "        vertical-align: top;\n",
              "    }\n",
              "\n",
              "    .dataframe thead th {\n",
              "        text-align: right;\n",
              "    }\n",
              "</style>\n",
              "<table border=\"1\" class=\"dataframe\">\n",
              "  <thead>\n",
              "    <tr style=\"text-align: right;\">\n",
              "      <th></th>\n",
              "      <th>Emp id</th>\n",
              "      <th>First Name</th>\n",
              "      <th>Last Name</th>\n",
              "      <th>Designation</th>\n",
              "      <th>Basic Salary</th>\n",
              "    </tr>\n",
              "  </thead>\n",
              "  <tbody>\n",
              "    <tr>\n",
              "      <th>0</th>\n",
              "      <td>E101</td>\n",
              "      <td>Shweta</td>\n",
              "      <td>Subnis</td>\n",
              "      <td>ProjectEngineer</td>\n",
              "      <td>40000</td>\n",
              "    </tr>\n",
              "    <tr>\n",
              "      <th>1</th>\n",
              "      <td>E102</td>\n",
              "      <td>Manisha</td>\n",
              "      <td>Perdesi</td>\n",
              "      <td>Tester</td>\n",
              "      <td>50000</td>\n",
              "    </tr>\n",
              "    <tr>\n",
              "      <th>2</th>\n",
              "      <td>E103</td>\n",
              "      <td>Madhu</td>\n",
              "      <td>Mali</td>\n",
              "      <td>SrSoftwareEngineer</td>\n",
              "      <td>60000</td>\n",
              "    </tr>\n",
              "    <tr>\n",
              "      <th>3</th>\n",
              "      <td>E104</td>\n",
              "      <td>Anita</td>\n",
              "      <td>Rai</td>\n",
              "      <td>WebDeveloper</td>\n",
              "      <td>70000</td>\n",
              "    </tr>\n",
              "  </tbody>\n",
              "</table>\n",
              "</div>"
            ],
            "text/plain": [
              "  Emp id First Name Last Name         Designation  Basic Salary\n",
              "0   E101     Shweta    Subnis     ProjectEngineer         40000\n",
              "1   E102    Manisha   Perdesi              Tester         50000\n",
              "2   E103      Madhu      Mali  SrSoftwareEngineer         60000\n",
              "3   E104      Anita       Rai        WebDeveloper         70000"
            ]
          },
          "metadata": {
            "tags": []
          },
          "execution_count": 83
        }
      ]
    },
    {
      "cell_type": "code",
      "metadata": {
        "colab": {
          "base_uri": "https://localhost:8080/"
        },
        "id": "2PjRx3yP5t0m",
        "outputId": "08152b29-7f3d-43d4-ed8e-d6d3e89208b2"
      },
      "source": [
        "import os\n",
        "import sqlite3 as lite\n",
        "import pandas as pd\n",
        "EmpId = [\"E101\",\"E102\",\"E103\",\"E104\"]\n",
        "FName = [\"Shweta\",\"Manisha\",\"Madhu\",\"Anita\"]\n",
        "LName = [\"Subnis\",\"Perdesi\",\"Mali\",\"Rai\"]\n",
        "Designation = [\"ProjectEngineer\",\"Tester\",\"SrSoftwareEngineer\",\"WebDeveloper\"]\n",
        "Basic_Salary = [40000,50000,60000,70000]\n",
        "Employee = zip(EmpId,FName,LName,Designation,Basic_Salary)\n",
        "column = ['Employees id','First Name','Last Name','Designation','Basic Salary']\n",
        "df2 = pd.DataFrame(data = Employee, columns=column)\n",
        "db_employees = r'/content/gdrive/MyDrive/mydbass1.db'\n",
        "con = lite.connect(db_employees)\n",
        "df2.to_sql('employees',con,\n",
        "schema=None,\n",
        "if_exists='replace',\n",
        "index=False,\n",
        "index_label=None,\n",
        "chunksize=None,\n",
        "dtype=None)\n",
        "con.close()"
      ],
      "execution_count": null,
      "outputs": [
        {
          "output_type": "stream",
          "text": [
            "/usr/local/lib/python3.6/dist-packages/pandas/core/generic.py:2615: UserWarning: The spaces in these column names will not be changed. In pandas versions < 0.14, spaces were converted to underscores.\n",
            "  method=method,\n"
          ],
          "name": "stderr"
        }
      ]
    },
    {
      "cell_type": "code",
      "metadata": {
        "colab": {
          "base_uri": "https://localhost:8080/",
          "height": 166
        },
        "id": "Wc4ysJHl_5U9",
        "outputId": "a573fe83-71dd-4757-a2d8-89c730042e56"
      },
      "source": [
        "import pandas as pd\n",
        "from sqlalchemy import create_engine\n",
        "# Connect to sqlite db\n",
        "db_file = r'/content/gdrive/MyDrive/mydbass1.db'\n",
        "engine = create_engine(r\"sqlite:///{}\" .format(db_file))\n",
        "sql = 'SELECT * from employees'\n",
        "df2 = pd.read_sql(sql, engine)\n",
        "df2"
      ],
      "execution_count": null,
      "outputs": [
        {
          "output_type": "execute_result",
          "data": {
            "text/html": [
              "<div>\n",
              "<style scoped>\n",
              "    .dataframe tbody tr th:only-of-type {\n",
              "        vertical-align: middle;\n",
              "    }\n",
              "\n",
              "    .dataframe tbody tr th {\n",
              "        vertical-align: top;\n",
              "    }\n",
              "\n",
              "    .dataframe thead th {\n",
              "        text-align: right;\n",
              "    }\n",
              "</style>\n",
              "<table border=\"1\" class=\"dataframe\">\n",
              "  <thead>\n",
              "    <tr style=\"text-align: right;\">\n",
              "      <th></th>\n",
              "      <th>Employees id</th>\n",
              "      <th>First Name</th>\n",
              "      <th>Last Name</th>\n",
              "      <th>Designation</th>\n",
              "      <th>Basic Salary</th>\n",
              "    </tr>\n",
              "  </thead>\n",
              "  <tbody>\n",
              "    <tr>\n",
              "      <th>0</th>\n",
              "      <td>E101</td>\n",
              "      <td>Shweta</td>\n",
              "      <td>Subnis</td>\n",
              "      <td>ProjectEngineer</td>\n",
              "      <td>40000</td>\n",
              "    </tr>\n",
              "    <tr>\n",
              "      <th>1</th>\n",
              "      <td>E102</td>\n",
              "      <td>Manisha</td>\n",
              "      <td>Perdesi</td>\n",
              "      <td>Tester</td>\n",
              "      <td>50000</td>\n",
              "    </tr>\n",
              "    <tr>\n",
              "      <th>2</th>\n",
              "      <td>E103</td>\n",
              "      <td>Madhu</td>\n",
              "      <td>Mali</td>\n",
              "      <td>SrSoftwareEngineer</td>\n",
              "      <td>60000</td>\n",
              "    </tr>\n",
              "    <tr>\n",
              "      <th>3</th>\n",
              "      <td>E104</td>\n",
              "      <td>Anita</td>\n",
              "      <td>Rai</td>\n",
              "      <td>WebDeveloper</td>\n",
              "      <td>70000</td>\n",
              "    </tr>\n",
              "  </tbody>\n",
              "</table>\n",
              "</div>"
            ],
            "text/plain": [
              "  Employees id First Name Last Name         Designation  Basic Salary\n",
              "0         E101     Shweta    Subnis     ProjectEngineer         40000\n",
              "1         E102    Manisha   Perdesi              Tester         50000\n",
              "2         E103      Madhu      Mali  SrSoftwareEngineer         60000\n",
              "3         E104      Anita       Rai        WebDeveloper         70000"
            ]
          },
          "metadata": {
            "tags": []
          },
          "execution_count": 85
        }
      ]
    }
  ]
}