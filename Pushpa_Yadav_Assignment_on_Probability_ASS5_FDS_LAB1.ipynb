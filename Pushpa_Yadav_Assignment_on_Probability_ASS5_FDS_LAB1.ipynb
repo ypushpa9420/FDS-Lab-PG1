{
  "nbformat": 4,
  "nbformat_minor": 0,
  "metadata": {
    "colab": {
      "name": "Pushpa_Yadav_Assignment_on_Probability_ASS5_FDSLAB1.ipynb",
      "provenance": [],
      "collapsed_sections": [],
      "authorship_tag": "ABX9TyNW1DayDXzjtxdaMCqRcDo7",
      "include_colab_link": true
    },
    "kernelspec": {
      "name": "python3",
      "display_name": "Python 3"
    }
  },
  "cells": [
    {
      "cell_type": "markdown",
      "metadata": {
        "id": "view-in-github",
        "colab_type": "text"
      },
      "source": [
        "<a href=\"https://colab.research.google.com/github/ypushpa9420/FDS-Lab-PG1/blob/main/Pushpa_Yadav_Assignment_on_Probability_ASS5_FDS_LAB1.ipynb\" target=\"_parent\"><img src=\"https://colab.research.google.com/assets/colab-badge.svg\" alt=\"Open In Colab\"/></a>"
      ]
    },
    {
      "cell_type": "markdown",
      "metadata": {
        "id": "c6jzcXSJca-L"
      },
      "source": [
        "## Q1. Two dice are rolled, find the probability that the sum is (i) equal to 1 (ii) equal to 4 (iii) less than 13"
      ]
    },
    {
      "cell_type": "code",
      "metadata": {
        "id": "QUKjMdDVdADo"
      },
      "source": [
        "def diceSum(Q1Num,OpSign):\r\n",
        "  Q1List=[]\r\n",
        "  Q1TotalOutcome=36\r\n",
        "  for i in range(1,7):\r\n",
        "    for j in range(1,7):\r\n",
        "      if (OpSign==\"Equalto\"):\r\n",
        "        if ((i+j)==Q1Num) :\r\n",
        "            Q1List.append(i+j)\r\n",
        "      if (OpSign==\"Lessthan\"):\r\n",
        "        if ((i+j)<Q1Num) :\r\n",
        "            Q1List.append(i+j)\r\n",
        "  if len(Q1List) <1 :\r\n",
        "    print(\"No number for sum is \"+ OpSign + \" \" + str(Q1Num))\r\n",
        "  else:\r\n",
        "    probQ1=len(Q1List)/Q1TotalOutcome\r\n",
        "    print(\"Probability of getting the sum of two dice as \"+ OpSign + \" \" + str(Q1Num) + \" is \" + str(probQ1))\r\n"
      ],
      "execution_count": 1,
      "outputs": []
    },
    {
      "cell_type": "code",
      "metadata": {
        "colab": {
          "base_uri": "https://localhost:8080/"
        },
        "id": "NvrH4bF_cv22",
        "outputId": "1e371e7f-3181-4694-c83d-bab9e7768161"
      },
      "source": [
        "#Solution\r\n",
        "\r\n",
        "#The measure of likelihood of an event occurring is called probability. \r\n",
        "#We divide the favorable outcome by the total number of outcomes to express probability as a fraction or decimal. \r\n",
        "#When we roll a single die, the total number of outcomes is 6; when we roll two dice the total outcomes are 6*6=36 and so on.\r\n",
        "\r\n",
        "#(i) Sum is equal to 1\r\n",
        "#(i) When two dice are rolled, the minimum digit that can be obtained on either of the dice is 1, hence the minimum sum can be 2. \r\n",
        "#Thus, the probability of getting the sum of two dice as 1 is zero.\r\n",
        "Q1i=diceSum(1,\"Equalto\")\r\n",
        "print(\"######################################\")\r\n",
        "\r\n",
        "#(ii) The sum can be equal to 4 in the following outcomes: (1,3), (2,2), (3,1)\r\n",
        "#Hence the probability of getting the sum as 4 = 3/36= 1/12\r\n",
        "Q1ii=diceSum(4,\"Equalto\")\r\n",
        "print(\"######################################\")\r\n",
        "\r\n",
        "#(iii) The maximum number that can be obtained on either of the two dice is 6 and hence the maximum sum that can be obtained is 12. \r\n",
        "#Hence, the probability of getting the sum as less than 13 is 1.\r\n",
        "Q1iii=diceSum(13,\"Lessthan\")\r\n"
      ],
      "execution_count": 2,
      "outputs": [
        {
          "output_type": "stream",
          "text": [
            "No number for sum is Equalto 1\n",
            "######################################\n",
            "Probability of getting the sum of two dice as Equalto 4 is 0.08333333333333333\n",
            "######################################\n",
            "Probability of getting the sum of two dice as Lessthan 13 is 1.0\n"
          ],
          "name": "stdout"
        }
      ]
    },
    {
      "cell_type": "markdown",
      "metadata": {
        "id": "6tsFKG_FknJ6"
      },
      "source": [
        "Q2. In the game of snakes and ladders, a fair die is thrown. If event E1 represents all the events of getting a natural number less than 4, event E2 consists of all the events of getting an even number and E3 denotes all the events of getting an odd number. List the sets representing the following:\r\n",
        "\r\n",
        "i)E1 or E2 or E3\r\n",
        "\r\n",
        "ii)E1 and E2 and E3\r\n",
        "\r\n",
        "iii)E1 but not E3"
      ]
    },
    {
      "cell_type": "code",
      "metadata": {
        "colab": {
          "base_uri": "https://localhost:8080/"
        },
        "id": "YAkxUljQlw1K",
        "outputId": "281d342a-2b1b-487f-9012-e0d9635fae65"
      },
      "source": [
        "#Solution-\r\n",
        "\"\"\"\r\n",
        "The sample space is given as S = {1 , 2 , 3 , 4 , 5 , 6}\r\n",
        "E1 = {1,2,3}\r\n",
        "E2 = {2,4,6}\r\n",
        "E3 = {1,3,5}\r\n",
        "i)E1 or E2 or E3= E1 E2 E3= {1, 2, 3, 4, 5, 6}\r\n",
        "ii)E1 and E2 and E3 = E1 E2 E3 = ∅\r\n",
        "iii)E1 but not E3 = {2}\r\n",
        "\"\"\"\r\n",
        "\r\n",
        "myQ2set = {1,2,3,4,5,6}\r\n",
        "SetE1=set()\r\n",
        "SetE2=set()\r\n",
        "SetE3=set()\r\n",
        "for i in range(1,7):\r\n",
        "  if i < 4:\r\n",
        "    SetE1.add(i)\r\n",
        "  if (i%2)==0:\r\n",
        "    SetE2.add(i)\r\n",
        "  if (i%2)!=0:\r\n",
        "    SetE3.add(i)\r\n",
        "\r\n",
        "print(\"All the events of getting a natural number less than 4 is \"+ str(SetE1))\r\n",
        "print(\"All the events of getting an even number is \"+ str(SetE2))\r\n",
        "print(\"All the events of getting an odd number is \"+ str(SetE3))\r\n",
        "print(\"\")\r\n",
        "\r\n",
        "#i)E1 or E2 or E3\r\n",
        "Q2i=SetE1.union(SetE2).union(SetE3)\r\n",
        "print(\"E1 or E2 or E3 is \"+ str(Q2i))\r\n",
        "print(\"\")\r\n",
        "\r\n",
        "#ii)E1 and E2 and E3 = E1 E2 E3\r\n",
        "Q2ii = SetE1.intersection(SetE2).intersection(SetE3)\r\n",
        "print(\"E1 and E2 and E3 is \"+ str(Q2ii))\r\n",
        "print(\"\")\r\n",
        "\r\n",
        "#iii)E1 but not E3\r\n",
        "Q2iii=SetE1.difference(SetE3)\r\n",
        "print(\"E1 but not E3 is \"+ str(Q2iii))\r\n",
        "print(\"\")\r\n"
      ],
      "execution_count": 3,
      "outputs": [
        {
          "output_type": "stream",
          "text": [
            "All the events of getting a natural number less than 4 is {1, 2, 3}\n",
            "All the events of getting an even number is {2, 4, 6}\n",
            "All the events of getting an odd number is {1, 3, 5}\n",
            "\n",
            "E1 or E2 or E3 is {1, 2, 3, 4, 5, 6}\n",
            "\n",
            "E1 and E2 and E3 is set()\n",
            "\n",
            "E1 but not E3 is {2}\n",
            "\n"
          ],
          "name": "stdout"
        }
      ]
    },
    {
      "cell_type": "markdown",
      "metadata": {
        "id": "p5HrIyOpwfTH"
      },
      "source": [
        "Q.3. How many permutations of the letters of the word ARTICLE  have consonants in the first and last positions?\r\n",
        "Expected Ans: 1440\r\n"
      ]
    },
    {
      "cell_type": "code",
      "metadata": {
        "colab": {
          "base_uri": "https://localhost:8080/"
        },
        "id": "C6dETtVxwj5H",
        "outputId": "6e5b6efd-8ae5-4ab6-a370-d0f0e5af79ea"
      },
      "source": [
        "#Solution-\r\n",
        "\r\n",
        "\"\"\"\r\n",
        "In the word ARTICLE, there are 4 consonants.\r\n",
        "Since the first letter must be a consonant, we have four choices for the first position, and once we use up a consonant, there are only three consonants left for the last spot. We show as follows:\r\n",
        "4 _ _ _ _ _ 3\r\n",
        "Since there are no more restrictions, we can go ahead and make the choices for the rest of the positions.\r\n",
        "So far we have used up 2 letters, therefore, five remain. So for the next position there are five choices, for the position after that there are four choices, and so on. We get\r\n",
        "4 5 4 3 2 1 3\r\n",
        "So the total permutations are  4⋅5⋅4⋅3⋅2⋅1⋅3=1440.\r\n",
        "\r\n",
        "\"\"\"\r\n",
        "wordstr=[\"A\",\"R\",\"T\",\"I\",\"C\",\"L\",\"E\"]\r\n",
        "noOfconsonants=0\r\n",
        "for i in wordstr:\r\n",
        "  if (i==\"A\" or i==\"E\" or i==\"I\" or i==\"O\" or i==\"U\"):\r\n",
        "    noOfconsonants=noOfconsonants+1\r\n",
        "\r\n",
        "noOfconsonants=len(wordstr) - noOfconsonants\r\n",
        "print(\"In the word ARTICLE, there are \" + str(noOfconsonants) +\" consonants\")\r\n",
        "\r\n",
        "Q3List=[None] * len(wordstr)\r\n",
        "\r\n",
        "Q3List[0]=noOfconsonants\r\n",
        "Q3List[len(wordstr)-1]=noOfconsonants-1\r\n",
        "\r\n",
        "rem=len(wordstr)-2\r\n",
        "for i in range(1,len(wordstr)-1):\r\n",
        "    Q3List[i]=rem\r\n",
        "    rem=rem-1\r\n",
        "\r\n",
        "mul=1\r\n",
        "for i in Q3List:\r\n",
        "  mul=mul*i\r\n",
        "\r\n",
        "print(\"Position is \" + str(Q3List))\r\n",
        "print(\"Total permutations are \" + str(mul))\r\n",
        "print(\"\")"
      ],
      "execution_count": 4,
      "outputs": [
        {
          "output_type": "stream",
          "text": [
            "In the word ARTICLE, there are 4 consonants\n",
            "Position is [4, 5, 4, 3, 2, 1, 3]\n",
            "Total permutations are 1440\n",
            "\n"
          ],
          "name": "stdout"
        }
      ]
    },
    {
      "cell_type": "markdown",
      "metadata": {
        "id": "d7xPB6n5OBMm"
      },
      "source": [
        "Q. 4. Give five letters {A,B,C,D,E}. Find the following:\r\n",
        "1.The number of four-letter word sequences.\r\n",
        "2.The number of three-letter word sequences.\r\n",
        "3.The number of two-letter word sequences.\r\n"
      ]
    },
    {
      "cell_type": "code",
      "metadata": {
        "colab": {
          "base_uri": "https://localhost:8080/"
        },
        "id": "to1khcEbOTuI",
        "outputId": "5913b6f2-82b1-401f-842e-441c84934f1a"
      },
      "source": [
        "#Solution\r\n",
        "#Since we are selecting from 5 different letters in the set,  n=5 .  The value for  r  is the number of letters we use in each sequence.\r\n",
        "#The number of four-letter word sequences is 5P4 =  5!(5−4)!=5⋅4⋅3⋅2⋅11=5⋅4⋅3⋅2=120 \r\n",
        "#The number of three-letter word sequences is 5P3 =  5!(5−3)!=5⋅4⋅3⋅2⋅12⋅1=5⋅4⋅3=60 \r\n",
        "#The number of two-letter word sequences is 5P2 =  5!(5−2)!=5⋅4⋅3⋅2⋅13⋅2⋅1=5⋅4=20\r\n",
        "\r\n",
        "#1. The number of four-letter word sequences is 5P4\r\n",
        "\r\n",
        "import math\r\n",
        "n=5\r\n",
        "Q45p4 =int(math.factorial(5)/math.factorial(5-4))\r\n",
        "print(\"The number of four-letter word sequences is \" + str(Q45p4))\r\n",
        "Q45p3 =int(math.factorial(5)/math.factorial(5-3))\r\n",
        "print(\"The number of three-letter word sequences is \" + str(Q45p3))\r\n",
        "Q45p2 =int(math.factorial(5)/math.factorial(5-2))\r\n",
        "print(\"The number of two-letter word sequences is \" + str(Q45p2))"
      ],
      "execution_count": 5,
      "outputs": [
        {
          "output_type": "stream",
          "text": [
            "The number of four-letter word sequences is 120\n",
            "The number of three-letter word sequences is 60\n",
            "The number of two-letter word sequences is 20\n"
          ],
          "name": "stdout"
        }
      ]
    },
    {
      "cell_type": "markdown",
      "metadata": {
        "id": "kHPJJmLoRQH9"
      },
      "source": [
        "Q. 5. In how many different ways can 4 people be seated in a straight line if two of them insist on sitting next to each other. \r\n"
      ]
    },
    {
      "cell_type": "code",
      "metadata": {
        "colab": {
          "base_uri": "https://localhost:8080/"
        },
        "id": "2TVJALj2RZYe",
        "outputId": "83c68c62-d7af-472f-d8eb-2bd94b119ff5"
      },
      "source": [
        "#Solution\r\n",
        "\"\"\"\r\n",
        "Let us suppose we have four people A, B, C, and D. Further suppose that A and B want to sit together. For the sake of argument, we tie A and B together and treat them as one person.\r\n",
        "The four people are  [AB]  CD. Since  [AB]  is treated as one person, we have the following possible arrangements.\r\n",
        "\r\n",
        "[AB]CD,[AB]DC,C[AB]D,D[AB]C,CD[AB],DC[AB]\r\n",
        " \r\n",
        "Note that there are six more such permutations because A and B could also be tied in the order BA. And they are\r\n",
        "\r\n",
        "[BA]CD,[BA]DC,C[BA]D,D[BA]C,CD[BA],DC[BA]\r\n",
        " \r\n",
        "So altogether there are 12 different permutations.\r\n",
        "\r\n",
        "We can solve this problem using the multiplication axiom.\r\n",
        "\r\n",
        "After we tie two of the people together and treat them as one person, we can say we have only three people. \r\n",
        "The multiplication axiom tells us that three people can be seated in 3! ways. Since two people can be tied together 2! ways, there are 3! 2! = 12 different arrangements\r\n",
        "\"\"\"\r\n",
        "from itertools import permutations  \r\n",
        "\r\n",
        "#permutations of A and B\r\n",
        "permAB = permutations([\"A\",\"B\"]) \r\n",
        "print(\"Permutations of A and B is\") \r\n",
        "for i in list(permAB):  \r\n",
        "    print (i)  \r\n",
        "print(\"\")\r\n",
        "\r\n",
        "\r\n",
        "# Get all permutations of [\"AB\",\"C\",\"D\"]  \r\n",
        "perm1 = permutations([\"AB\",\"C\",\"D\"])  \r\n",
        "print(\"permutations of AB,C,D\")  \r\n",
        "# Print the obtained permutations  \r\n",
        "for i in list(perm1):  \r\n",
        "    print (i)  \r\n",
        "print(\"\")\r\n",
        "\r\n",
        "\r\n",
        "# Get all permutations of [\"BA\",\"C\",\"D\"]  \r\n",
        "perm2 = permutations([\"BA\",\"C\",\"D\"])  \r\n",
        "print(\"permutations of BA,C,D\")  \r\n",
        "# Print the obtained permutations  \r\n",
        "for i in list(perm2):  \r\n",
        "    print (i)  \r\n",
        "\r\n",
        "finalpar=(math.factorial(3)) * (math.factorial(2))\r\n",
        "print(\"\")\r\n",
        "print(\"Total arrangements is \" + str(finalpar)) "
      ],
      "execution_count": 6,
      "outputs": [
        {
          "output_type": "stream",
          "text": [
            "Permutations of A and B is\n",
            "('A', 'B')\n",
            "('B', 'A')\n",
            "\n",
            "permutations of AB,C,D\n",
            "('AB', 'C', 'D')\n",
            "('AB', 'D', 'C')\n",
            "('C', 'AB', 'D')\n",
            "('C', 'D', 'AB')\n",
            "('D', 'AB', 'C')\n",
            "('D', 'C', 'AB')\n",
            "\n",
            "permutations of BA,C,D\n",
            "('BA', 'C', 'D')\n",
            "('BA', 'D', 'C')\n",
            "('C', 'BA', 'D')\n",
            "('C', 'D', 'BA')\n",
            "('D', 'BA', 'C')\n",
            "('D', 'C', 'BA')\n",
            "\n",
            "Total arrangements is 12\n"
          ],
          "name": "stdout"
        }
      ]
    },
    {
      "cell_type": "markdown",
      "metadata": {
        "id": "MOLrdh18U-qy"
      },
      "source": [
        "Q. 6. You have 4 math books and 5 history books to put on a shelf that has 5 slots. In how many ways can the books be shelved if the first three slots are filled with math books and the next two slots are filled with history books?\r\n"
      ]
    },
    {
      "cell_type": "code",
      "metadata": {
        "id": "wWDijY0_VBnu",
        "colab": {
          "base_uri": "https://localhost:8080/"
        },
        "outputId": "fef64868-ae5d-443a-e8ff-f0d208b111eb"
      },
      "source": [
        "#Solution\r\n",
        "\"\"\"\r\n",
        "We first do the problem using the multiplication axiom.\r\n",
        "\r\n",
        "Since the math books go in the first three slots, there are 4 choices for the first slot,\r\n",
        "3 choices for the second and 2 choices for the third.\r\n",
        "\r\n",
        "The fourth slot requires a history book, and has five choices. Once that choice is made, there are 4 history books left, and therefore, 4 choices for the last slot. The choices are shown below.\r\n",
        "\r\n",
        "4 3 2 5 4\r\n",
        "\r\n",
        "Therefore, the number of permutations are  4⋅3⋅2⋅5⋅4=480 .\r\n",
        "\r\n",
        "\"\"\"\r\n",
        "import math\r\n",
        "Q6P=4*3*2*5*4\r\n",
        "print(\"The number of permutations uisng using the multiplication axiom \" + str(Q6P))\r\n",
        "\r\n",
        "#Alternately, we can see that  4⋅3⋅2  is really same as 4P3, and  5⋅4  is 5P2.\r\n",
        "\r\n",
        "Q6AP=int((math.factorial(4)/math.factorial(4-3))*(math.factorial(5)/math.factorial(5-2)))\r\n",
        "print(\"The number of permutations are \" + str(Q6AP))\r\n",
        "\r\n",
        "print(\"\")\r\n",
        "\r\n"
      ],
      "execution_count": 7,
      "outputs": [
        {
          "output_type": "stream",
          "text": [
            "The number of permutations uisng using the multiplication axiom 480\n",
            "The number of permutations are 480\n",
            "\n"
          ],
          "name": "stdout"
        }
      ]
    },
    {
      "cell_type": "markdown",
      "metadata": {
        "id": "3j_nKEKRT1P9"
      },
      "source": [
        "Q. 7. The shopping mall has a straight row of 5 flagpoles at its main entrance plaza. It has 3 identical green flags and 2 identical yellow flags. How many distinct arrangements of flags on the flagpoles are possible?\r\n"
      ]
    },
    {
      "cell_type": "code",
      "metadata": {
        "colab": {
          "base_uri": "https://localhost:8080/"
        },
        "id": "vMxMg5ICT7n6",
        "outputId": "3b34a754-f9b3-4c38-913b-51c7ece42b7a"
      },
      "source": [
        "#Solution\r\n",
        "\r\n",
        "#The problem can be thought of as distinct permutations of the letters GGGYY; that is arrangements of 5 letters, where 3 letters are similar, and the remaining 2 letters are similar:\r\n",
        "\r\n",
        "import math\r\n",
        "from itertools import permutations\r\n",
        "from itertools import combinations\r\n",
        "\r\n",
        "Q7an=math.factorial(5)/(math.factorial(3)*math.factorial(2))\r\n",
        "print(\"Distinct permutations of the letters GGGYY \" + str(Q7an))\r\n",
        "Q7List=[]\r\n",
        "Q7perm = permutations(\"GGGYY\")\r\n",
        "print(\"\")  \r\n",
        "# Print the obtained permutations\r\n",
        "for i in list(Q7perm):\r\n",
        "    Q7List.append(i)\r\n",
        "\r\n",
        "print(\"Below are distinct permutations of the letters GGGYY\")\r\n",
        "print(set(Q7List))\r\n",
        "print(\"\") "
      ],
      "execution_count": 8,
      "outputs": [
        {
          "output_type": "stream",
          "text": [
            "Distinct permutations of the letters GGGYY 10.0\n",
            "\n",
            "Below are distinct permutations of the letters GGGYY\n",
            "{('Y', 'G', 'G', 'Y', 'G'), ('Y', 'G', 'Y', 'G', 'G'), ('Y', 'Y', 'G', 'G', 'G'), ('G', 'G', 'G', 'Y', 'Y'), ('G', 'Y', 'G', 'G', 'Y'), ('G', 'G', 'Y', 'G', 'Y'), ('G', 'Y', 'G', 'Y', 'G'), ('G', 'G', 'Y', 'Y', 'G'), ('G', 'Y', 'Y', 'G', 'G'), ('Y', 'G', 'G', 'G', 'Y')}\n",
            "\n"
          ],
          "name": "stdout"
        }
      ]
    },
    {
      "cell_type": "markdown",
      "metadata": {
        "id": "Vu_1_1X3bDTW"
      },
      "source": [
        "Q8. If there are ‘n’ people in a room, what is the chance that some pair among them have the same birthday?\"\r\n"
      ]
    },
    {
      "cell_type": "code",
      "metadata": {
        "colab": {
          "base_uri": "https://localhost:8080/"
        },
        "id": "VO7aPGK3bId5",
        "outputId": "b09bc4e5-a8fa-4b87-ba1d-89089265ef3e"
      },
      "source": [
        "#Solution\r\n",
        "\r\n",
        "#Here Q8P is probality of people having same birthday and e is probabality of people not having same birthday\r\n",
        "\r\n",
        "import math\r\n",
        "n = input(\"Enter number of people in room :\")\r\n",
        "e=math.exp(-int(n)**2/(2*365))\r\n",
        "Q8P=1-e\r\n",
        "print(\"Chance of having same birthday if \" + str(n) + \" in same room is \"+ str(Q8P))\r\n",
        "print(\"\")"
      ],
      "execution_count": 9,
      "outputs": [
        {
          "output_type": "stream",
          "text": [
            "Enter number of people in room :30\n",
            "Chance of having same birthday if 30 in same room is 0.7085470557100684\n",
            "\n"
          ],
          "name": "stdout"
        }
      ]
    },
    {
      "cell_type": "markdown",
      "metadata": {
        "id": "sCDLBPT_dGJq"
      },
      "source": [
        "Q. 9. You have a fair, well-shuffled deck of 52 cards. It consists of four suits. The suits are clubs, diamonds, hearts and spaces. There are 13 cards in each suit consisting of 1, 2, 3, 4, 5, 6, 7, 8, 9, J(Jack), Q(Queen), H(king) of that suit.\r\n",
        "\r\n",
        "Three cards are picked at random\r\n",
        "A)Suppose you know that the picked cards are Q of spades, K of hearts and Q of spades. Can you decide if the sampling was with or without replacement?\r\n",
        "B)Suppose  you know that the picked cards are Q of spades, K of hearts and J of spades. Can you decide if the sampling was with or without replacement?\r\n"
      ]
    },
    {
      "cell_type": "code",
      "metadata": {
        "colab": {
          "base_uri": "https://localhost:8080/"
        },
        "id": "qtizKivBgZda",
        "outputId": "deccd11d-6a8c-41f9-a7bf-552603e497a8"
      },
      "source": [
        "#Solution\r\n",
        "\r\n",
        "def samplingans(SList):\r\n",
        "  lenSList=len(SList)\r\n",
        "  sizeofset=len(set(SList))\r\n",
        "  if lenSList==sizeofset:\r\n",
        "    s=\"without replacement and with replacement sampling method\"\r\n",
        "  else:\r\n",
        "    s=\"only with replacement sampling method\"\r\n",
        "  return s\r\n",
        "\r\n",
        "print(\"For 3 random cards picked i.e. Q of spades, K of hearts and Q of spades is possible using \" + samplingans([\"QS\",\"KH\",\"QS\"]) +\".\")\r\n",
        "print(\"For 3 random cards picked i.e. Q of spades, K of hearts and J of spades is possible using \" + samplingans([\"QS\",\"KH\",\"JS\"])+\".\")\r\n"
      ],
      "execution_count": 10,
      "outputs": [
        {
          "output_type": "stream",
          "text": [
            "For 3 random cards picked i.e. Q of spades, K of hearts and Q of spades is possible using only with replacement sampling method.\n",
            "For 3 random cards picked i.e. Q of spades, K of hearts and J of spades is possible using without replacement and with replacement sampling method.\n"
          ],
          "name": "stdout"
        }
      ]
    },
    {
      "cell_type": "markdown",
      "metadata": {
        "id": "768cwI97hZDV"
      },
      "source": [
        "Q. 10. You have a fair, well-shuffled deck of 52 cards. It consists of four suits. The suits are clubs, diamonds, hearts and spaces. There are 13 cards in each suit consisting of 1, 2, 3, 4, 5, 6, 7, 8, 9, J(Jack), Q(Queen), H(king) of that suit. S=spades, H=Hearts, D=Diamonds, C=Clubs, suppose that you sample four cards without replacement. Which of the following outcomes are possible? \r\n",
        "Answer the following questions for sampling with replacement.\r\n",
        "QS, ID, 1C, QD\r\n",
        "KH, 7D, 6D, KH\r\n",
        "QS, 7D, 6D, KS\r\n"
      ]
    },
    {
      "cell_type": "code",
      "metadata": {
        "colab": {
          "base_uri": "https://localhost:8080/"
        },
        "id": "a1Xas-mmhaz0",
        "outputId": "789c6119-044f-48d2-a674-cd1e094417a1"
      },
      "source": [
        "#Solution\r\n",
        "\r\n",
        "print(\"Possibility of Four cards without replacement and with replcement\")\r\n",
        "\r\n",
        "print(\"Four cards i.e. QS, ID, 1C, QD is possible with using \" + samplingans([\"QS\", \"ID\", \"1C\", \"QD\"]))\r\n",
        "print(\"Four cards i.e. KH, 7D, 6D, KH is possible with using \" + samplingans([\"KH\", \"7D\", \"6D\", \"KH\"]))\r\n",
        "print(\"Four cards i.e. QS, 7D, 6D, KS is possible with using \" + samplingans([\"QS\", \"7D\", \"6D\", \"KS\"]))\r\n"
      ],
      "execution_count": 11,
      "outputs": [
        {
          "output_type": "stream",
          "text": [
            "Possibility of Four cards without replacement and with replcement\n",
            "Four cards i.e. QS, ID, 1C, QD is possible with using without replacement and with replacement sampling method\n",
            "Four cards i.e. KH, 7D, 6D, KH is possible with using only with replacement sampling method\n",
            "Four cards i.e. QS, 7D, 6D, KS is possible with using without replacement and with replacement sampling method\n"
          ],
          "name": "stdout"
        }
      ]
    }
  ]
}