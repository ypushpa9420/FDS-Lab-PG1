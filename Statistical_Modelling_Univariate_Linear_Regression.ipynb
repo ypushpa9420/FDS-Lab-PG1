{
  "nbformat": 4,
  "nbformat_minor": 0,
  "metadata": {
    "colab": {
      "name": "Statistical_Modelling_Univariate_Linear_Regression.ipynb",
      "provenance": [],
      "collapsed_sections": [],
      "include_colab_link": true
    },
    "kernelspec": {
      "name": "python3",
      "display_name": "Python 3"
    }
  },
  "cells": [
    {
      "cell_type": "markdown",
      "metadata": {
        "id": "view-in-github",
        "colab_type": "text"
      },
      "source": [
        "<a href=\"https://colab.research.google.com/github/ypushpa9420/FDS-Lab-PG1/blob/FDS_Practical_10/Statistical_Modelling_Univariate_Linear_Regression.ipynb\" target=\"_parent\"><img src=\"https://colab.research.google.com/assets/colab-badge.svg\" alt=\"Open In Colab\"/></a>"
      ]
    },
    {
      "cell_type": "markdown",
      "metadata": {
        "id": "tKY5WaUlE_FY"
      },
      "source": [
        "# **Linear Regression in Machine Learning**\r\n",
        "\r\n",
        "\r\n",
        "Linear regression is one of the easiest and most popular Machine Learning algorithms. It is a statistical method that is used for predictive analysis. Linear regression makes predictions for continuous/real or numeric variables such as sales, salary, age, product price, etc.\r\n",
        "\r\n",
        "\r\n",
        "Linear regression algorithm shows a linear relationship between a dependent (y) and one or more independent (y) variables, hence called as linear regression. Since linear regression shows the linear relationship, which means it finds how the value of the dependent variable is changing according to the value of the independent variable.\r\n",
        "\r\n",
        "\r\n",
        "The linear regression model provides a sloped straight line representing the relationship between the variables. Consider the below image:\r\n",
        "\r\n",
        "\r\n",
        "![linear-regression-in-machine-learning.png](data:image/png;base64,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)\r\n",
        "\r\n",
        "\r\n",
        "\r\n",
        "Mathematically, we can represent a linear regression as:\r\n",
        "\r\n",
        "y= a0+a1x+ ε\r\n",
        "\r\n",
        "Here,\r\n",
        "\r\n",
        "Y= Dependent Variable (Target Variable)\r\n",
        "\r\n",
        "X= Independent Variable (predictor Variable)\r\n",
        "\r\n",
        "a0= intercept of the line (Gives an additional degree of freedom)\r\n",
        "\r\n",
        "a1 = Linear regression coefficient (scale factor to each input value).\r\n",
        "ε = random error\r\n",
        "\r\n",
        "The values for x and y variables are training datasets for Linear Regression model representation."
      ]
    },
    {
      "cell_type": "markdown",
      "metadata": {
        "id": "kuALWbLWHiqv"
      },
      "source": [
        "## **Univariate Linear Regression:**\r\n",
        "\r\n",
        "\r\n",
        "Univariate linear regression focuses on determining relationship between one independent (explanatory variable) variable and one dependent variable. Regression comes handy mainly in situation where the relationship between two features is not obvious to the naked eye. For example, it could be used to study how the terrorist attacks frequency affects the economic growth of countries around the world or the role of unemployment in a country in the bankruptcy of the government.\r\n",
        "\r\n",
        "\r\n",
        "Univariate data is the type of data in which the result depends only on one variable. For instance, dataset of points on a line can be considered as a univariate data where abscissa can be considered as input feature and ordinate can be considered as output/result.\r\n",
        "\r\n",
        "\r\n",
        "Python has methods for finding a relationship between data-points and to draw a line of linear regression. We will show you how to use these methods instead of going through the mathematic formula.\r\n",
        "\r\n",
        "\r\n",
        "For univariate linear regression, there is only one input feature vector. The line of regression will be in the form of:\r\n",
        "\r\n",
        "\r\n",
        "Y = b0 + b1 * X\r\n",
        "Where,\r\n",
        "\r\n",
        "b0 and b1 are the coefficients of regression.\r\n",
        "\r\n",
        "Hence, it is being tried to predict regression coefficients b0 and b1 by training a model.\r\n",
        "\r\n",
        "\r\n",
        "\r\n",
        "**Example 1**\r\n",
        "\r\n",
        "In the example below, the x-axis represents age, and the y-axis represents speed. We have registered the age and speed of 13 cars as they were passing a tollbooth. Let us see if the data we collected could be used in a linear regression:\r\n",
        "\r\n",
        "\r\n"
      ]
    },
    {
      "cell_type": "code",
      "metadata": {
        "colab": {
          "base_uri": "https://localhost:8080/",
          "height": 265
        },
        "id": "onhT009aJI8e",
        "outputId": "2c96091b-a89c-4f1c-fa57-abca98142850"
      },
      "source": [
        "#Start by drawing a scatter plot:\n",
        " \n",
        "import matplotlib.pyplot as plt\n",
        " \n",
        "x = [5,7,8,7,2,17,2,9,4,11,12,9,6]\n",
        "y = [99,86,87,88,111,86,103,87,94,78,77,85,86]\n",
        " \n",
        "plt.scatter(x, y)\n",
        "plt.show()"
      ],
      "execution_count": 1,
      "outputs": [
        {
          "output_type": "display_data",
          "data": {
            "image/png": "[encoded data removed]",
            "text/plain": [
              "<Figure size 432x288 with 1 Axes>"
            ]
          },
          "metadata": {
            "tags": [],
            "needs_background": "light"
          }
        }
      ]
    },
    {
      "cell_type": "code",
      "metadata": {
        "colab": {
          "base_uri": "https://localhost:8080/",
          "height": 265
        },
        "id": "APx2WWmBJUxJ",
        "outputId": "b4e83f7d-db85-4684-be8a-74b2e1f90cf7"
      },
      "source": [
        "#Import scipy and draw the line of Linear Regression:\r\n",
        "\r\n",
        "import matplotlib.pyplot as plt\r\n",
        "from scipy import stats\r\n",
        "\r\n",
        "x = [5,7,8,7,2,17,2,9,4,11,12,9,6]\r\n",
        "y = [99,86,87,88,111,86,103,87,94,78,77,85,86]\r\n",
        "\r\n",
        "slope, intercept, r, p, std_err = stats.linregress(x, y)\r\n",
        "\r\n",
        "def myfunc(x):\r\n",
        "  return slope * x + intercept\r\n",
        "\r\n",
        "mymodel = list(map(myfunc, x))\r\n",
        "\r\n",
        "plt.scatter(x, y)\r\n",
        "plt.plot(x, mymodel)\r\n",
        "plt.show()"
      ],
      "execution_count": 2,
      "outputs": [
        {
          "output_type": "display_data",
          "data": {
            "image/png": "[encoded data removed]",
            "text/plain": [
              "<Figure size 432x288 with 1 Axes>"
            ]
          },
          "metadata": {
            "tags": [],
            "needs_background": "light"
          }
        }
      ]
    },
    {
      "cell_type": "markdown",
      "metadata": {
        "id": "PMx2b6tGJjJ8"
      },
      "source": [
        "**R for Relationship**\r\n",
        "\r\n",
        "\r\n",
        "It is important to know how the relationship between the values of the x-axis and the values of the y-axis is, if there are no relationship the linear regression can not be used to predict anything.\r\n",
        "\r\n",
        "\r\n",
        "This relationship - the coefficient of correlation - is called r.\r\n",
        "\r\n",
        "\r\n",
        "The r value ranges from -1 to 1, where 0 means no relationship, and 1 (and -1) means 100% related.\r\n",
        "\r\n",
        "\r\n",
        "Python and the Scipy module will compute this value for you, all you have to do is feed it with the x and y values."
      ]
    },
    {
      "cell_type": "code",
      "metadata": {
        "colab": {
          "base_uri": "https://localhost:8080/"
        },
        "id": "WOEaazZAJgDi",
        "outputId": "0210fd0b-a16e-470e-eba2-260020a54684"
      },
      "source": [
        "from scipy import stats\r\n",
        "\r\n",
        "x = [5,7,8,7,2,17,2,9,4,11,12,9,6]\r\n",
        "y = [99,86,87,88,111,86,103,87,94,78,77,85,86]\r\n",
        "\r\n",
        "slope, intercept, r, p, std_err = stats.linregress(x, y)\r\n",
        "\r\n",
        "print(r)\r\n",
        "\r\n",
        "#Note: The result -0.76 shows that there is a relationship, not perfect, but it indicates that we could use linear regression in future predictions."
      ],
      "execution_count": 3,
      "outputs": [
        {
          "output_type": "stream",
          "text": [
            "-0.758591524376155\n"
          ],
          "name": "stdout"
        }
      ]
    },
    {
      "cell_type": "markdown",
      "metadata": {
        "id": "D2oQcdbIJ0uW"
      },
      "source": [
        "**Predict Future Values**\r\n",
        "\r\n",
        "Now we can use the information we have gathered to predict future values.\r\n",
        "\r\n",
        "Example: Let us try to predict the speed of a 10 years old car.\r\n",
        "\r\n",
        "\r\n",
        "To do so, we need the same myfunc() function from the example above:"
      ]
    },
    {
      "cell_type": "code",
      "metadata": {
        "colab": {
          "base_uri": "https://localhost:8080/"
        },
        "id": "HfcPDAuMJ8Nw",
        "outputId": "4a053636-893f-4187-8481-8a3a78ba10f5"
      },
      "source": [
        "#Predict the speed of a 10 years old car:\r\n",
        "\r\n",
        "from scipy import stats\r\n",
        "\r\n",
        "x = [5,7,8,7,2,17,2,9,4,11,12,9,6]\r\n",
        "y = [99,86,87,88,111,86,103,87,94,78,77,85,86]\r\n",
        "\r\n",
        "slope, intercept, r, p, std_err = stats.linregress(x, y)\r\n",
        "\r\n",
        "def myfunc(x):\r\n",
        "  return slope * x + intercept\r\n",
        "\r\n",
        "speed = myfunc(10)\r\n",
        "\r\n",
        "print(speed)\r\n"
      ],
      "execution_count": 4,
      "outputs": [
        {
          "output_type": "stream",
          "text": [
            "85.59308314937454\n"
          ],
          "name": "stdout"
        }
      ]
    },
    {
      "cell_type": "markdown",
      "metadata": {
        "id": "HL-HHXfZKfrU"
      },
      "source": [
        "**Example 2**\r\n",
        "\r\n",
        "The example below uses only the first feature of the diabetes dataset, in order to illustrate the data points within the two-dimensional plot. The straight line can be seen in the plot, showing how linear regression attempts to draw a straight line that will best minimize the residual sum of squares between the observed responses in the dataset, and the responses predicted by the linear approximation.\r\n",
        "\r\n",
        "\r\n",
        "The coefficients, residual sum of squares and the coefficient of determination are also calculated."
      ]
    },
    {
      "cell_type": "code",
      "metadata": {
        "colab": {
          "base_uri": "https://localhost:8080/",
          "height": 349
        },
        "id": "iloupbOyKrbJ",
        "outputId": "640bfb79-446c-4dd5-9a72-e602649bb232"
      },
      "source": [
        "print(__doc__)\r\n",
        "\r\n",
        "\r\n",
        "import matplotlib.pyplot as plt\r\n",
        "import numpy as np\r\n",
        "from sklearn import datasets, linear_model\r\n",
        "from sklearn.metrics import mean_squared_error, r2_score\r\n",
        "\r\n",
        "# Load the diabetes dataset\r\n",
        "diabetes_X, diabetes_y = datasets.load_diabetes(return_X_y=True)\r\n",
        "\r\n",
        "# Use only one feature\r\n",
        "diabetes_X = diabetes_X[:, np.newaxis, 2]\r\n",
        "\r\n",
        "# Split the data into training/testing sets\r\n",
        "diabetes_X_train = diabetes_X[:-20]\r\n",
        "diabetes_X_test = diabetes_X[-20:]\r\n",
        "\r\n",
        "# Split the targets into training/testing sets\r\n",
        "diabetes_y_train = diabetes_y[:-20]\r\n",
        "diabetes_y_test = diabetes_y[-20:]\r\n",
        "\r\n",
        "# Create linear regression object\r\n",
        "regr = linear_model.LinearRegression()\r\n",
        "\r\n",
        "# Train the model using the training sets\r\n",
        "regr.fit(diabetes_X_train, diabetes_y_train)\r\n",
        "\r\n",
        "# Make predictions using the testing set\r\n",
        "diabetes_y_pred = regr.predict(diabetes_X_test)\r\n",
        "\r\n",
        "# The coefficients\r\n",
        "print('Coefficients: \\n', regr.coef_)\r\n",
        "# The mean squared error\r\n",
        "print('Mean squared error: %.2f'\r\n",
        "      % mean_squared_error(diabetes_y_test, diabetes_y_pred))\r\n",
        "# The coefficient of determination: 1 is perfect prediction\r\n",
        "print('Coefficient of determination: %.2f'\r\n",
        "      % r2_score(diabetes_y_test, diabetes_y_pred))\r\n",
        "\r\n",
        "# Plot outputs\r\n",
        "plt.scatter(diabetes_X_test, diabetes_y_test,  color='black')\r\n",
        "plt.plot(diabetes_X_test, diabetes_y_pred, color='blue', linewidth=3)\r\n",
        "\r\n",
        "plt.show()"
      ],
      "execution_count": 5,
      "outputs": [
        {
          "output_type": "stream",
          "text": [
            "Automatically created module for IPython interactive environment\n",
            "Coefficients: \n",
            " [938.23786125]\n",
            "Mean squared error: 2548.07\n",
            "Coefficient of determination: 0.47\n"
          ],
          "name": "stdout"
        },
        {
          "output_type": "display_data",
          "data": {
            "image/png": "[encoded data removed]",
            "text/plain": [
              "<Figure size 432x288 with 1 Axes>"
            ]
          },
          "metadata": {
            "tags": [],
            "needs_background": "light"
          }
        }
      ]
    },
    {
      "cell_type": "code",
      "metadata": {
        "colab": {
          "base_uri": "https://localhost:8080/"
        },
        "id": "8OiGp3KnLF75",
        "outputId": "fb70a1d1-88d1-4a0c-e02b-370694e65562"
      },
      "source": [
        "#Predecting values\r\n",
        "\r\n",
        "y_pred = regr.predict(np.array([0.045]).reshape(-1, 1))\r\n",
        "print(y_pred)"
      ],
      "execution_count": null,
      "outputs": [
        {
          "output_type": "stream",
          "text": [
            "[195.13956558]\n"
          ],
          "name": "stdout"
        }
      ]
    },
    {
      "cell_type": "markdown",
      "metadata": {
        "id": "z6vklzlTL3Wf"
      },
      "source": [
        "**Example 3**\r\n",
        "\r\n",
        "This example shows relationship between 2 varibales called as \"Input\" and \"Output\""
      ]
    },
    {
      "cell_type": "code",
      "metadata": {
        "colab": {
          "base_uri": "https://localhost:8080/"
        },
        "id": "1_qCYXKcMi2S",
        "outputId": "b9dc91fb-8e48-41c8-d8c6-f84b5aadcd8f"
      },
      "source": [
        "#Mounting Google Drive\r\n",
        "%cd ..\r\n",
        "from google.colab import drive\r\n",
        "drive.mount('/content/gdrive')"
      ],
      "execution_count": 6,
      "outputs": [
        {
          "output_type": "stream",
          "text": [
            "/\n",
            "Mounted at /content/gdrive\n"
          ],
          "name": "stdout"
        }
      ]
    },
    {
      "cell_type": "code",
      "metadata": {
        "colab": {
          "base_uri": "https://localhost:8080/"
        },
        "id": "viPX_q9EMqtT",
        "outputId": "9110bdcf-5181-486f-8846-3730e27c305f"
      },
      "source": [
        "from google.colab import drive\r\n",
        "drive.mount('/content/drive')"
      ],
      "execution_count": 7,
      "outputs": [
        {
          "output_type": "stream",
          "text": [
            "Mounted at /content/drive\n"
          ],
          "name": "stdout"
        }
      ]
    },
    {
      "cell_type": "code",
      "metadata": {
        "colab": {
          "base_uri": "https://localhost:8080/",
          "height": 366
        },
        "id": "YhwhPOFRNGHQ",
        "outputId": "638476e4-cff7-4800-838a-a0b7304ab959"
      },
      "source": [
        "import numpy as np\r\n",
        "import pandas as pd\r\n",
        "import matplotlib.pyplot as plt\r\n",
        "import seaborn as sns\r\n",
        "from sklearn import datasets, linear_model\r\n",
        "from sklearn.metrics import mean_squared_error, r2_score\r\n",
        "from sklearn.model_selection import train_test_split\r\n",
        "\r\n",
        "df = pd.read_csv('/content/drive/MyDrive/univariate_lin_reg.csv')\r\n",
        "print(df.head())\r\n",
        "\r\n",
        "x3=df['input'].values.reshape((-1, 1))\r\n",
        "y3=df['output'].values.reshape((-1, 1))\r\n",
        "\r\n",
        "plt.scatter(x3, y3)\r\n",
        "plt.show()"
      ],
      "execution_count": 8,
      "outputs": [
        {
          "output_type": "stream",
          "text": [
            "       input     output\n",
            "0  32.502345  31.707006\n",
            "1  53.426804  68.777596\n",
            "2  61.530358  62.562382\n",
            "3  47.475640  71.546632\n",
            "4  59.813208  87.230925\n"
          ],
          "name": "stdout"
        },
        {
          "output_type": "display_data",
          "data": {
            "image/png": "[encoded data removed]",
            "text/plain": [
              "<Figure size 432x288 with 1 Axes>"
            ]
          },
          "metadata": {
            "tags": [],
            "needs_background": "light"
          }
        }
      ]
    },
    {
      "cell_type": "code",
      "metadata": {
        "colab": {
          "base_uri": "https://localhost:8080/",
          "height": 386
        },
        "id": "T0S5ZcXmO0zs",
        "outputId": "4b3486f9-9b68-46d6-c456-84d0e7c14e97"
      },
      "source": [
        "x_train,x_test,y_train,y_test=train_test_split(x3,y3,test_size=0.4)\r\n",
        "\r\n",
        "print(x_train.shape)\r\n",
        "print(x_test.shape)\r\n",
        "print(y_train.shape)\r\n",
        "print(y_test.shape)\r\n",
        "\r\n",
        "\r\n",
        "# Create linear regression object\r\n",
        "regr = linear_model.LinearRegression()\r\n",
        "\r\n",
        "# Train the model using the training sets\r\n",
        "regr.fit(x_train, y_train)\r\n",
        "\r\n",
        "# Make predictions using the testing set\r\n",
        "y_pred = regr.predict(x_test)\r\n",
        "\r\n",
        "# The coefficients\r\n",
        "print('Coefficients: \\n', regr.coef_)\r\n",
        "# The mean squared error\r\n",
        "print('Mean squared error: %.2f'\r\n",
        "      % mean_squared_error(y_test, y_pred))\r\n",
        "# The coefficient of determination: 1 is perfect prediction\r\n",
        "print('Coefficient of determination: %.2f'\r\n",
        "      % r2_score(y_test, y_pred))\r\n",
        "\r\n",
        "# Plot outputs\r\n",
        "plt.scatter(x_test, y_test,  color='black')\r\n",
        "plt.plot(x_test, y_pred, color='blue', linewidth=3)\r\n",
        "plt.xticks(())\r\n",
        "plt.yticks(())\r\n",
        "\r\n",
        "plt.show()\r\n"
      ],
      "execution_count": 9,
      "outputs": [
        {
          "output_type": "stream",
          "text": [
            "(60, 1)\n",
            "(40, 1)\n",
            "(60, 1)\n",
            "(40, 1)\n",
            "Coefficients: \n",
            " [[1.2314039]]\n",
            "Mean squared error: 98.91\n",
            "Coefficient of determination: 0.65\n"
          ],
          "name": "stdout"
        },
        {
          "output_type": "display_data",
          "data": {
            "image/png": "[encoded data removed]",
            "text/plain": [
              "<Figure size 432x288 with 1 Axes>"
            ]
          },
          "metadata": {
            "tags": []
          }
        }
      ]
    },
    {
      "cell_type": "code",
      "metadata": {
        "colab": {
          "base_uri": "https://localhost:8080/"
        },
        "id": "tP5nTTqLSOrQ",
        "outputId": "ef71b2d3-1ecd-49e6-fbb7-9ef40dab7302"
      },
      "source": [
        "#Predecting Values\r\n",
        "y_pred1 = regr.predict(np.array([53.42680403]).reshape(-1, 1))\r\n",
        "print(y_pred1)"
      ],
      "execution_count": 10,
      "outputs": [
        {
          "output_type": "stream",
          "text": [
            "[[79.02350369]]\n"
          ],
          "name": "stdout"
        }
      ]
    }
  ]
}