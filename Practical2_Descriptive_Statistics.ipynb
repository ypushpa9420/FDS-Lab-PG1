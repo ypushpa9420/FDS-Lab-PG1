{
  "nbformat": 4,
  "nbformat_minor": 0,
  "metadata": {
    "colab": {
      "name": "Practical2_Descriptive_Statistics.ipynb",
      "provenance": [],
      "collapsed_sections": [],
      "include_colab_link": true
    },
    "kernelspec": {
      "name": "python3",
      "display_name": "Python 3"
    }
  },
  "cells": [
    {
      "cell_type": "markdown",
      "metadata": {
        "id": "view-in-github",
        "colab_type": "text"
      },
      "source": [
        "<a href=\"https://colab.research.google.com/github/ypushpa9420/FDS-Lab-PG1/blob/FDS_Practical_10/Practical2_Descriptive_Statistics.ipynb\" target=\"_parent\"><img src=\"https://colab.research.google.com/assets/colab-badge.svg\" alt=\"Open In Colab\"/></a>"
      ]
    },
    {
      "cell_type": "markdown",
      "metadata": {
        "id": "PdCtFsGfDBgZ"
      },
      "source": [
        "\n",
        "**Importing Libraries**\n",
        "\n",
        "    * Pandas for reading data file\n",
        "    * Numpy for performing statistical calculations\n",
        "    * Matplotlib and seaborn for visualization\n",
        "    * Scipy.stats for Skewness and Kurtosis\n",
        "\n",
        "\n",
        "\n"
      ]
    },
    {
      "cell_type": "code",
      "metadata": {
        "id": "Imc1_PEEDJON"
      },
      "source": [
        "import pandas as pd \n",
        "import numpy as np\n",
        "import matplotlib.pyplot as plt\n",
        "import seaborn as sb\n",
        "from scipy.stats import skew\n",
        "from scipy.stats import kurtosis"
      ],
      "execution_count": null,
      "outputs": []
    },
    {
      "cell_type": "markdown",
      "metadata": {
        "id": "jM-k6H1tDk1l"
      },
      "source": [
        "***To see all the columns which are present in the dataset***"
      ]
    },
    {
      "cell_type": "code",
      "metadata": {
        "id": "bJDFbUxmDm4v"
      },
      "source": [
        "pd.set_option(\"display.max_columns\",None)#To see all the columns which are present in the dataset"
      ],
      "execution_count": null,
      "outputs": []
    },
    {
      "cell_type": "markdown",
      "metadata": {
        "id": "E1pEvK08DwQZ"
      },
      "source": [
        "***#Mounting Google Drive***"
      ]
    },
    {
      "cell_type": "code",
      "metadata": {
        "colab": {
          "base_uri": "https://localhost:8080/"
        },
        "id": "EiKd3v2iDx_b",
        "outputId": "cd3872e3-f868-4f2f-9b57-686e8bd55850"
      },
      "source": [
        "%cd ..\n",
        "from google.colab import drive\n",
        "drive.mount('/content/gdrive')"
      ],
      "execution_count": null,
      "outputs": [
        {
          "output_type": "stream",
          "text": [
            "/\n",
            "Mounted at /content/gdrive\n"
          ],
          "name": "stdout"
        }
      ]
    },
    {
      "cell_type": "markdown",
      "metadata": {
        "id": "sdNFnHBNVz-D"
      },
      "source": [
        "***Unzip the dataset.zip.***"
      ]
    },
    {
      "cell_type": "code",
      "metadata": {
        "colab": {
          "base_uri": "https://localhost:8080/"
        },
        "id": "lnRbsipXSGe_",
        "outputId": "fc6331ca-6fa5-4dbd-fa51-9d57a9eb6411"
      },
      "source": [
        "!unzip /content/gdrive/MyDrive/dataset.zip\n"
      ],
      "execution_count": null,
      "outputs": [
        {
          "output_type": "stream",
          "text": [
            "Archive:  /content/gdrive/MyDrive/dataset.zip\n",
            "replace dataset.xlsx? [y]es, [n]o, [A]ll, [N]one, [r]ename: y\n",
            "  inflating: dataset.xlsx            \n"
          ],
          "name": "stdout"
        }
      ]
    },
    {
      "cell_type": "markdown",
      "metadata": {
        "id": "bYfJI1HiU9yW"
      },
      "source": [
        "\n",
        "**Reading dataset**\n",
        "\n",
        "    df is dataframe .\n",
        "    pd.read_excel reads the excel file.\n",
        "    head Function prints the first five rows of the dataset. *italicized text*\n",
        "\n",
        "**Description of data**\n",
        "\n",
        "    Data belongs to student category which contains fname , age and gender column.\n",
        "    Fname contins the name of students, age column contains the age of the students and grade column contains the marks obtained. *italicized text*\n",
        "\n"
      ]
    },
    {
      "cell_type": "code",
      "metadata": {
        "colab": {
          "base_uri": "https://localhost:8080/",
          "height": 206
        },
        "id": "eox4G-EgSO5d",
        "outputId": "ec616bde-1d26-4d9c-b3c6-5f065ec2544d"
      },
      "source": [
        "df=pd.read_excel('/content/gdrive/MyDrive/dataset.xlsx')\n",
        "df.head()"
      ],
      "execution_count": null,
      "outputs": [
        {
          "output_type": "execute_result",
          "data": {
            "text/html": [
              "<div>\n",
              "<style scoped>\n",
              "    .dataframe tbody tr th:only-of-type {\n",
              "        vertical-align: middle;\n",
              "    }\n",
              "\n",
              "    .dataframe tbody tr th {\n",
              "        vertical-align: top;\n",
              "    }\n",
              "\n",
              "    .dataframe thead th {\n",
              "        text-align: right;\n",
              "    }\n",
              "</style>\n",
              "<table border=\"1\" class=\"dataframe\">\n",
              "  <thead>\n",
              "    <tr style=\"text-align: right;\">\n",
              "      <th></th>\n",
              "      <th>name</th>\n",
              "      <th>age</th>\n",
              "      <th>grade</th>\n",
              "    </tr>\n",
              "  </thead>\n",
              "  <tbody>\n",
              "    <tr>\n",
              "      <th>0</th>\n",
              "      <td>satish</td>\n",
              "      <td>22</td>\n",
              "      <td>90</td>\n",
              "    </tr>\n",
              "    <tr>\n",
              "      <th>1</th>\n",
              "      <td>ashish</td>\n",
              "      <td>21</td>\n",
              "      <td>70</td>\n",
              "    </tr>\n",
              "    <tr>\n",
              "      <th>2</th>\n",
              "      <td>vishal</td>\n",
              "      <td>22</td>\n",
              "      <td>69</td>\n",
              "    </tr>\n",
              "    <tr>\n",
              "      <th>3</th>\n",
              "      <td>manisha</td>\n",
              "      <td>22</td>\n",
              "      <td>45</td>\n",
              "    </tr>\n",
              "    <tr>\n",
              "      <th>4</th>\n",
              "      <td>neha</td>\n",
              "      <td>20</td>\n",
              "      <td>50</td>\n",
              "    </tr>\n",
              "  </tbody>\n",
              "</table>\n",
              "</div>"
            ],
            "text/plain": [
              "      name  age  grade\n",
              "0   satish   22     90\n",
              "1   ashish   21     70\n",
              "2   vishal   22     69\n",
              "3  manisha   22     45\n",
              "4     neha   20     50"
            ]
          },
          "metadata": {
            "tags": []
          },
          "execution_count": 11
        }
      ]
    },
    {
      "cell_type": "markdown",
      "metadata": {
        "id": "hJqteuNCTaX6"
      },
      "source": [
        "\n",
        "**Measures of Central Tendency**\n",
        "\n",
        "    Mean\n",
        "        The sum of a collection of numbers divided by the count of numbers in the collection.\n",
        "  \n",
        "    Median\n",
        "        The median is the value separating the higher half from the lower half of a data sample, a population, or a probability distribution.\n",
        "   \n",
        "    Mode\n",
        "        The mode is the value that appears most often in a set of data values.\n",
        "\n",
        "\n",
        "**Where the measures of central tendency used?**\n",
        "\n",
        "    The above three values are used in handling null and outlier values in Machine learning, in Image processing mean and median plays an important role , we use mean and median for applying threshold values on the particular image.\n",
        "    cv2.ADAPTIVE_THRESH_MEAN_C threshold value is the mean of neighbourhood area.\n",
        "\n",
        "    cv2.medianBlur() computes the median of all the pixels under the kernel window and the central pixel is replaced with this median value.\n",
        "\n"
      ]
    },
    {
      "cell_type": "code",
      "metadata": {
        "colab": {
          "base_uri": "https://localhost:8080/"
        },
        "id": "jiMC2FFJTbgj",
        "outputId": "b59b3f02-db02-4fda-c147-7c71fa4f688e"
      },
      "source": [
        "df_mean=df.mean()\n",
        "print(\"*Mean of columns age and grade*\")\n",
        "print(df_mean)\n",
        "df_median=df.median()\n",
        "print(\"*Median of columns age and grade*\")\n",
        "print(df_median)\n",
        "df_mode=df.mode()\n",
        "print(\"*Mode of columns age and grade*\")\n",
        "print(df_mode)"
      ],
      "execution_count": null,
      "outputs": [
        {
          "output_type": "stream",
          "text": [
            "*Mean of columns age and grade*\n",
            "age      21.4\n",
            "grade    64.8\n",
            "dtype: float64\n",
            "*Median of columns age and grade*\n",
            "age      22.0\n",
            "grade    69.0\n",
            "dtype: float64\n",
            "*Mode of columns age and grade*\n",
            "      name   age  grade\n",
            "0   ashish  22.0     45\n",
            "1  manisha   NaN     50\n",
            "2     neha   NaN     69\n",
            "3   satish   NaN     70\n",
            "4   vishal   NaN     90\n"
          ],
          "name": "stdout"
        }
      ]
    },
    {
      "cell_type": "markdown",
      "metadata": {
        "id": "7dMh9BFtTjxH"
      },
      "source": [
        "\n",
        "**Measures of Variability**\n",
        "\n",
        "    Standard Deviation\n",
        "       The standard deviation is a measure of the amount of variation or dispersion of a set of values.\n",
        "    \n",
        "    Variance\n",
        "        The term variance refers to a statistical measurement of the spread between numbers in a data set.\n",
        "   \n",
        "    Min and Max Variables\n",
        "        Min is the minimum value in the column or in dataset.\n",
        "        Max is the maximum value in the column or in dataset.\n",
        "\n",
        "**Where the measures of variability is used?**\n",
        "\n",
        "    Standard deviation is used to know how data is spread so we can find some good insigths from it.\n",
        "    Example:-\n",
        "\n",
        "        If we are working with data which consist column of years, tax rate, sales amount etc. so, after applying standard deviation we will get to know at which year the tax rate or sales amount was more or less.\n",
        "        \n",
        "    Min and Max both are used to find range of the array or particilar column, so we can detect the outliers.\n",
        "\n"
      ]
    },
    {
      "cell_type": "code",
      "metadata": {
        "colab": {
          "base_uri": "https://localhost:8080/"
        },
        "id": "Iomc_5wtTk5F",
        "outputId": "dd40b526-c421-4597-85c3-d211483b382e"
      },
      "source": [
        "print(\"Standard deviation of columns age and grade\")\n",
        "print(df.std())\n",
        "print(\"Variance of columns age and grade  \")\n",
        "print(df.var())\n",
        "print(\"The Minimum value are\" )\n",
        "print(df.min())\n",
        "print(\"The Maximum value are\" )\n",
        "print(df.max())"
      ],
      "execution_count": null,
      "outputs": [
        {
          "output_type": "stream",
          "text": [
            "Standard deviation of columns age and grade\n",
            "age       0.894427\n",
            "grade    17.963853\n",
            "dtype: float64\n",
            "Variance of columns age and grade  \n",
            "age        0.8\n",
            "grade    322.7\n",
            "dtype: float64\n",
            "The Minimum value are\n",
            "name     ashish\n",
            "age          20\n",
            "grade        45\n",
            "dtype: object\n",
            "The Maximum value are\n",
            "name     vishal\n",
            "age          22\n",
            "grade        90\n",
            "dtype: object\n"
          ],
          "name": "stdout"
        }
      ]
    },
    {
      "cell_type": "markdown",
      "metadata": {
        "id": "WjSUPcY8TpH_"
      },
      "source": [
        "\n",
        "\n",
        "    Skewness and Kurtosis\n",
        "\n",
        "        Skewness is a measure of the symmetry of a distribution. The highest point of a distribution is its mode.\n",
        "        Kurtosis is a statistical measure that defines how heavily the tails of a distribution differ from the tails of a normal distribution.\n",
        "\n",
        "**Where do we use Skewness and Kurtosis ?**\n",
        "\n",
        "    Skewness can be used to obtain approximate probabilities and quantiles of distributions (such as value at risk in finance) via the Cornish-Fisher expansion.\n",
        "    \n",
        "    Kurtosis is used to describe the extreme values in one versus the other tail. It is actually the measure of outliers present in the distribution . High kurtosis in a data set is an indicator that data has heavy tails or outliers.\n",
        "\n"
      ]
    },
    {
      "cell_type": "code",
      "metadata": {
        "colab": {
          "base_uri": "https://localhost:8080/"
        },
        "id": "Ua7bDCDHTtjy",
        "outputId": "4445aae0-669f-4482-9f0a-e10496c347fa"
      },
      "source": [
        "age_skew=skew(df[\"age\"])\n",
        "grade_skew=skew(df[\"grade\"])\n",
        "print(\"The skewness of column age is : \",age_skew)\n",
        "print(\"The skewness of column grade is : \",grade_skew)"
      ],
      "execution_count": null,
      "outputs": [
        {
          "output_type": "stream",
          "text": [
            "The skewness of column age is :  -0.8437499999999949\n",
            "The skewness of column grade is :  0.2513781993344489\n"
          ],
          "name": "stdout"
        }
      ]
    },
    {
      "cell_type": "code",
      "metadata": {
        "colab": {
          "base_uri": "https://localhost:8080/"
        },
        "id": "X2OxOzT2T3dQ",
        "outputId": "ff8a7fbb-5a8e-4c7b-bc15-ec76b5790dd8"
      },
      "source": [
        "\n",
        "\n",
        "age_kurtosis=kurtosis(df[\"age\"])\n",
        "print(\"The kurtosis of column age is \",age_kurtosis)\n",
        "grade_kurtosis=kurtosis(df[\"grade\"])\n",
        "print(\"The kurtosis of column grade is \",grade_kurtosis)\n",
        "\n"
      ],
      "execution_count": null,
      "outputs": [
        {
          "output_type": "stream",
          "text": [
            "The kurtosis of column age is  -0.9218750000000062\n",
            "The kurtosis of column grade is  -1.181476183530098\n"
          ],
          "name": "stdout"
        }
      ]
    },
    {
      "cell_type": "markdown",
      "metadata": {
        "id": "hCetXUF9UADa"
      },
      "source": [
        "\n",
        " * Range\n",
        "        The Range is the difference between the lowest and highest values.\n",
        "\n",
        "    Given that the range can easily be computed with information on the maximum and minimum value of the data set.\n",
        "\n",
        "    Users requiring only a rough indication of the data may prefer to use this indicator over more sophisticated measures of spread.\n",
        "\n"
      ]
    },
    {
      "cell_type": "code",
      "metadata": {
        "colab": {
          "base_uri": "https://localhost:8080/"
        },
        "id": "l_gyEzbHUEH0",
        "outputId": "91f67092-bc04-416c-91c6-1a5ec32a6183"
      },
      "source": [
        "age_range=(df[\"age\"].max())-(df[\"age\"].min())\n",
        "print(\"The range of column age is :\",age_range)"
      ],
      "execution_count": null,
      "outputs": [
        {
          "output_type": "stream",
          "text": [
            "The range of column age is : 2\n"
          ],
          "name": "stdout"
        }
      ]
    },
    {
      "cell_type": "code",
      "metadata": {
        "colab": {
          "base_uri": "https://localhost:8080/"
        },
        "id": "X7CnQzOhULmU",
        "outputId": "479b99e2-d650-487d-df7a-6237fbf3fa9f"
      },
      "source": [
        "grade_range=(df[\"grade\"].max())-(df[\"grade\"].min())\n",
        "print(\"The range of column grade is :\",grade_range)"
      ],
      "execution_count": null,
      "outputs": [
        {
          "output_type": "stream",
          "text": [
            "The range of column grade is : 45\n"
          ],
          "name": "stdout"
        }
      ]
    },
    {
      "cell_type": "markdown",
      "metadata": {
        "id": "Jd5XFLvgURZ_"
      },
      "source": [
        "\n",
        "\n",
        " * Percentiles/Quartiles\n",
        "        A percentile is a measure at which that percentage of the total values are the same as or below that measure. For example, 90% of the data values lie below the 90th percentile, whereas 10% of the data values lie below the 10th percentile.\n",
        "\n",
        "        Quartiles are values that divide a (part of a) data table into four groups containing an approximately equal number of observations. The total of 100% is split into four equal parts: 25%, 50%, 75% and 100%.\n",
        "\n",
        "    Percentiles are used to understand and interpret data.\n",
        "    Quartiles are used to summarize a group of numbers.\n",
        "\n"
      ]
    },
    {
      "cell_type": "code",
      "metadata": {
        "colab": {
          "base_uri": "https://localhost:8080/"
        },
        "id": "2mWAiDslUSnx",
        "outputId": "b13ac55b-aa65-43a9-e658-3d875d85a419"
      },
      "source": [
        "print(\"50th percentile of age column is:\",np.percentile(df[\"age\"],50))\n",
        "print(\"25th percentile of age column is:\",np.percentile(df[\"age\"],25))\n",
        "print(\"75th percentile of age column is:\",np.percentile(df[\"age\"],75))"
      ],
      "execution_count": null,
      "outputs": [
        {
          "output_type": "stream",
          "text": [
            "50th percentile of age column is: 22.0\n",
            "25th percentile of age column is: 21.0\n",
            "75th percentile of age column is: 22.0\n"
          ],
          "name": "stdout"
        }
      ]
    },
    {
      "cell_type": "code",
      "metadata": {
        "colab": {
          "base_uri": "https://localhost:8080/"
        },
        "id": "a-MIO67MUZy6",
        "outputId": "ad23b236-ed8c-4658-a01e-a297c2756e18"
      },
      "source": [
        "\n",
        "\n",
        "print(\"50th percentile of grade column is:\",np.percentile(df[\"grade\"],50))\n",
        "print(\"25th percentile of grade column is:\",np.percentile(df[\"grade\"],25))\n",
        "print(\"75th percentile of grade column is:\",np.percentile(df[\"grade\"],75))\n",
        "\n"
      ],
      "execution_count": null,
      "outputs": [
        {
          "output_type": "stream",
          "text": [
            "50th percentile of grade column is: 69.0\n",
            "25th percentile of grade column is: 50.0\n",
            "75th percentile of grade column is: 70.0\n"
          ],
          "name": "stdout"
        }
      ]
    },
    {
      "cell_type": "code",
      "metadata": {
        "colab": {
          "base_uri": "https://localhost:8080/"
        },
        "id": "Fq_lu0znUeTX",
        "outputId": "1a75d82d-a70f-4752-e998-356564a1dfdc"
      },
      "source": [
        "print(\"Q2th quantile of age column is : \",np.quantile(df[\"age\"],.50))\n",
        "print(\"Q1th quantile of age column is : \",np.quantile(df[\"age\"],.25))\n",
        "print(\"Q3th quantile of age column is : \",np.quantile(df[\"age\"],.75))"
      ],
      "execution_count": null,
      "outputs": [
        {
          "output_type": "stream",
          "text": [
            "Q2th quantile of age column is :  22.0\n",
            "Q1th quantile of age column is :  21.0\n",
            "Q3th quantile of age column is :  22.0\n"
          ],
          "name": "stdout"
        }
      ]
    },
    {
      "cell_type": "code",
      "metadata": {
        "colab": {
          "base_uri": "https://localhost:8080/"
        },
        "id": "Hcu_mO_GUihx",
        "outputId": "be2f9ea4-a307-4851-b72a-a327bc0b028e"
      },
      "source": [
        "print(\"Q2 quantile of grade column is : \",np.quantile(df[\"grade\"],.50))\n",
        "print(\"Q1th quantile of grade column is : \",np.quantile(df[\"grade\"],.25))\n",
        "print(\"Q3 quantile of grade column is : \",np.quantile(df[\"grade\"],.75))"
      ],
      "execution_count": null,
      "outputs": [
        {
          "output_type": "stream",
          "text": [
            "Q2 quantile of grade column is :  69.0\n",
            "Q1th quantile of grade column is :  50.0\n",
            "Q3 quantile of grade column is :  70.0\n"
          ],
          "name": "stdout"
        }
      ]
    },
    {
      "cell_type": "markdown",
      "metadata": {
        "id": "o7q4ly1_Ulx4"
      },
      "source": [
        "\n",
        "\n",
        "  * Box Plots\n",
        "        A box and whisker plot (sometimes called a boxplot) is a graph that presents information from a five-number summary.\n",
        "        Lowest observation\n",
        "        Highest observation\n",
        "        Lower Quartile\n",
        "        Upper Quartile\n",
        "        Median\n",
        "\n"
      ]
    },
    {
      "cell_type": "code",
      "metadata": {
        "colab": {
          "base_uri": "https://localhost:8080/",
          "height": 265
        },
        "id": "7RhUkbaUUnCz",
        "outputId": "cedbb0d0-7269-4c0f-93ae-ad6bc1d468d4"
      },
      "source": [
        "plt.figure()\n",
        "plt.subplot(1,2,1)\n",
        "df.boxplot(column=\"age\")\n",
        "plt.subplot(1,2,2)\n",
        "df.boxplot(column=\"grade\")\n",
        "plt.show()"
      ],
      "execution_count": null,
      "outputs": [
        {
          "output_type": "display_data",
          "data": {
            "image/png": "[encoded data removed]",
            "text/plain": [
              "<Figure size 432x288 with 2 Axes>"
            ]
          },
          "metadata": {
            "tags": [],
            "needs_background": "light"
          }
        }
      ]
    }
  ]
}